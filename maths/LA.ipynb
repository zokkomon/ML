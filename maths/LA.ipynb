{
  "nbformat": 4,
  "nbformat_minor": 0,
  "metadata": {
    "colab": {
      "provenance": []
    },
    "kernelspec": {
      "name": "python3",
      "display_name": "Python 3"
    },
    "language_info": {
      "name": "python"
    },
    "accelerator": "GPU",
    "gpuClass": "standard"
  },
  "cells": [
    {
      "cell_type": "code",
      "execution_count": null,
      "metadata": {
        "id": "ELswqXAPpkFI"
      },
      "outputs": [],
      "source": [
        "import numpy as np\n",
        "import matplotlib.pyplot as plt"
      ]
    },
    {
      "cell_type": "code",
      "source": [
        "t = np.linspace(0, 40, 1000) # start, finish, n points"
      ],
      "metadata": {
        "id": "jVsQ74hdpn3L"
      },
      "execution_count": null,
      "outputs": []
    },
    {
      "cell_type": "code",
      "source": [
        "d_r = 1*t"
      ],
      "metadata": {
        "id": "DSiymC5Sri34"
      },
      "execution_count": null,
      "outputs": []
    },
    {
      "cell_type": "code",
      "source": [
        "d_s = 4*(t-30)"
      ],
      "metadata": {
        "id": "GvjzsagYVA8G"
      },
      "execution_count": null,
      "outputs": []
    },
    {
      "cell_type": "code",
      "source": [
        "fig, ax = plt.subplots()\n",
        "plt.title('Power Produces in days')\n",
        "plt.xlabel('time (in minutes)')\n",
        "plt.ylabel('distance (in km)')\n",
        "ax.set_xlim([0, 50])\n",
        "ax.set_ylim([0, 50])\n",
        "ax.plot(t, d_r, c='green')\n",
        "ax.plot(t, d_s, c='brown')\n",
        "plt.axvline(x=40, color='purple', linestyle='--')\n",
        "_ = plt.axhline(y=40, color='purple', linestyle='--')"
      ],
      "metadata": {
        "colab": {
          "base_uri": "https://localhost:8080/",
          "height": 295
        },
        "id": "htKFXLUAVFcT",
        "outputId": "74a33514-88df-4c06-e367-5fea6b21ed65"
      },
      "execution_count": null,
      "outputs": [
        {
          "output_type": "display_data",
          "data": {
            "text/plain": [
              "<Figure size 432x288 with 1 Axes>"
            ],
            "image/png": "[encoded data removed]"
          },
          "metadata": {
            "needs_background": "light"
          }
        }
      ]
    },
    {
      "cell_type": "markdown",
      "source": [
        "**l2 norms**-*to find the lenth of n dimensional in tensor*\n"
      ],
      "metadata": {
        "id": "fTASJgK9aMCd"
      }
    },
    {
      "cell_type": "code",
      "source": [
        "x=[25,2,5]"
      ],
      "metadata": {
        "id": "oCOOpK7OVVFO"
      },
      "execution_count": null,
      "outputs": []
    },
    {
      "cell_type": "code",
      "source": [
        "(25**2+2**2+5**2)**(1/2)\n"
      ],
      "metadata": {
        "colab": {
          "base_uri": "https://localhost:8080/"
        },
        "id": "CWz60iK2WMnF",
        "outputId": "5f5c2410-f855-47a5-9c0f-f122f45bcf5c"
      },
      "execution_count": null,
      "outputs": [
        {
          "output_type": "execute_result",
          "data": {
            "text/plain": [
              "25.573423705088842"
            ]
          },
          "metadata": {},
          "execution_count": 9
        }
      ]
    },
    {
      "cell_type": "code",
      "source": [
        "np.linalg.norm(x)"
      ],
      "metadata": {
        "colab": {
          "base_uri": "https://localhost:8080/"
        },
        "id": "0il7o9SGWgK-",
        "outputId": "cfcd0b06-7999-4853-ca4a-27fa794d7985"
      },
      "execution_count": null,
      "outputs": [
        {
          "output_type": "execute_result",
          "data": {
            "text/plain": [
              "25.573423705088842"
            ]
          },
          "metadata": {},
          "execution_count": 10
        }
      ]
    },
    {
      "cell_type": "markdown",
      "source": [
        "**l1**-unit vector to disguish zero and non zero"
      ],
      "metadata": {
        "id": "4Le-iHCOaYLG"
      }
    },
    {
      "cell_type": "code",
      "source": [
        "np.abs(x[0]+x[1]+x[2])\n"
      ],
      "metadata": {
        "colab": {
          "base_uri": "https://localhost:8080/"
        },
        "id": "pbXBetBoXGhf",
        "outputId": "93f8f43d-29c2-4ae4-ef1e-d912daeb3583"
      },
      "execution_count": null,
      "outputs": [
        {
          "output_type": "execute_result",
          "data": {
            "text/plain": [
              "32"
            ]
          },
          "metadata": {},
          "execution_count": 11
        }
      ]
    },
    {
      "cell_type": "markdown",
      "source": [],
      "metadata": {
        "id": "L8Vdl6YfUked"
      }
    },
    {
      "cell_type": "markdown",
      "source": [
        "**squared l2 norms**\n"
      ],
      "metadata": {
        "id": "8khBVbTEUbX2"
      }
    },
    {
      "cell_type": "code",
      "source": [
        "(25**2+2**2+5**2)"
      ],
      "metadata": {
        "id": "-VZuUkLxYnIs",
        "colab": {
          "base_uri": "https://localhost:8080/"
        },
        "outputId": "a2263be3-3113-46be-999c-043ec0645ef1"
      },
      "execution_count": null,
      "outputs": [
        {
          "output_type": "execute_result",
          "data": {
            "text/plain": [
              "654"
            ]
          },
          "metadata": {},
          "execution_count": 12
        }
      ]
    },
    {
      "cell_type": "code",
      "source": [
        "np.dot(x,x)"
      ],
      "metadata": {
        "colab": {
          "base_uri": "https://localhost:8080/"
        },
        "id": "FH8IujW3UnJm",
        "outputId": "6ded7139-1b36-46b0-fda2-448744b3c3e9"
      },
      "execution_count": null,
      "outputs": [
        {
          "output_type": "execute_result",
          "data": {
            "text/plain": [
              "654"
            ]
          },
          "metadata": {},
          "execution_count": 13
        }
      ]
    },
    {
      "cell_type": "markdown",
      "source": [
        "**Max norms**"
      ],
      "metadata": {
        "id": "2LU-V0U5Y1q6"
      }
    },
    {
      "cell_type": "code",
      "source": [
        "np.max([np.abs(25),np.abs(2),np.abs(5)])"
      ],
      "metadata": {
        "colab": {
          "base_uri": "https://localhost:8080/"
        },
        "id": "wcbtMX42Y3Es",
        "outputId": "934f7357-44e4-4346-9240-568c499156eb"
      },
      "execution_count": null,
      "outputs": [
        {
          "output_type": "execute_result",
          "data": {
            "text/plain": [
              "25"
            ]
          },
          "metadata": {},
          "execution_count": 14
        }
      ]
    },
    {
      "cell_type": "code",
      "source": [],
      "metadata": {
        "id": "xr_JkFBcU4t4"
      },
      "execution_count": null,
      "outputs": []
    }
  ]
}